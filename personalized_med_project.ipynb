{
 "cells": [
  {
   "cell_type": "markdown",
   "id": "196ca7c4",
   "metadata": {},
   "source": [
    "# Motivations & Summary"
   ]
  },
  {
   "cell_type": "markdown",
   "id": "e575179a",
   "metadata": {},
   "source": [
    "In fall quarter of my senior year of college, I did a project focusing on DeepAEG, a model for predicting cancer drug response based on individualized patient records ([link to ncbi article](https://pmc.ncbi.nlm.nih.gov/articles/PMC10925015/)). This project opened my eyes to the world of personalized medicine and its importance, especially with the rapid rise of machine learning/AI making these tools easier to use.\n",
    "\n",
    "Cancer is especially important to focus our personalized medicine efforts on as cancer is not just one disease - it is a myriad of diseases that have different effects, levels of *** etc. \n",
    "\n",
    "In this project, I hope to gain a better understanding of how personalized medicine algorithms work and try to create my own algorithm that predicts the effect of genetic variants in order to enhance personalized medicine. I'm using a Kaggle dataset from 2017 that was a part of a competition that has long since finished. I will be using Python as my primary language.\n",
    "\n",
    "Thank you for reading and I hope you enjoy my analysis!"
   ]
  },
  {
   "cell_type": "markdown",
   "id": "c76d125f",
   "metadata": {},
   "source": [
    "# 1. Data Understanding & Cleaning"
   ]
  },
  {
   "cell_type": "markdown",
   "id": "fd1c2d00",
   "metadata": {},
   "source": []
  }
 ],
 "metadata": {
  "language_info": {
   "name": "python"
  }
 },
 "nbformat": 4,
 "nbformat_minor": 5
}
